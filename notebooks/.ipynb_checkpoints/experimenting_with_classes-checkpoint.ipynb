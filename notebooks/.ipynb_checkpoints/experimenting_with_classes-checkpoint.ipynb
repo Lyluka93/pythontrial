{
 "cells": [
  {
   "cell_type": "code",
   "execution_count": 42,
   "metadata": {},
   "outputs": [],
   "source": [
    "class Ticket:\n",
    "    def __init__(self, id:int):\n",
    "        self.id = id\n",
    "\n",
    "    def __str__(self):\n",
    "        return f\"ticket id: {self.id}\""
   ]
  },
  {
   "cell_type": "code",
   "execution_count": 46,
   "metadata": {},
   "outputs": [
    {
     "name": "stdout",
     "output_type": "stream",
     "text": [
      "ticket id: 12\n"
     ]
    }
   ],
   "source": [
    "sorszam = Ticket(12)\n",
    "print(sorszam)\n",
    "assert sorszam.id == 12"
   ]
  },
  {
   "cell_type": "code",
   "execution_count": 63,
   "metadata": {},
   "outputs": [],
   "source": [
    "class TicketMachine:\n",
    "    tickets = list()\n",
    "    \n",
    "    def __str__(self):\n",
    "        return f\"tickets: {[ticket.__str__() for ticket in self.tickets]}\"\n",
    "    \n",
    "    def getNewTicket(self):\n",
    "        new_ticket = Ticket(len(self.tickets))\n",
    "        self.tickets.append(new_ticket)\n",
    "        return new_ticket"
   ]
  },
  {
   "cell_type": "code",
   "execution_count": 64,
   "metadata": {},
   "outputs": [],
   "source": [
    "gep = TicketMachine()"
   ]
  },
  {
   "cell_type": "code",
   "execution_count": 68,
   "metadata": {},
   "outputs": [
    {
     "name": "stdout",
     "output_type": "stream",
     "text": [
      "ticket id: 3\n",
      "A gepben levo sorszamok: tickets: ['ticket id: 0', 'ticket id: 1', 'ticket id: 2', 'ticket id: 3']\n"
     ]
    }
   ],
   "source": [
    "sorszam = gep.getNewTicket()\n",
    "print(sorszam)\n",
    "print(f\"A gepben levo sorszamok: {gep}\")"
   ]
  },
  {
   "cell_type": "code",
   "execution_count": 24,
   "metadata": {},
   "outputs": [
    {
     "data": {
      "text/plain": [
       "[1, 4, 9]"
      ]
     },
     "execution_count": 24,
     "metadata": {},
     "output_type": "execute_result"
    }
   ],
   "source": [
    "lista = [1, 2,  3]\n",
    "\n",
    "[i*i for i in lista] # Ezt amugy hivjak list comprehension-nek a pythonosok"
   ]
  },
  {
   "cell_type": "code",
   "execution_count": 71,
   "metadata": {},
   "outputs": [],
   "source": [
    "class Customer:\n",
    "    def buyTicket(self, machine:TicketMachine):\n",
    "        self.ticket = machine.getNewTicket()\n",
    "        \n",
    "    def showTicket(self):\n",
    "        return self.ticket\n",
    "    "
   ]
  },
  {
   "cell_type": "code",
   "execution_count": 72,
   "metadata": {},
   "outputs": [
    {
     "name": "stdout",
     "output_type": "stream",
     "text": [
      "ticket id: 4\n"
     ]
    }
   ],
   "source": [
    "bela_ba = Customer()\n",
    "bela_ba.buyTicket(gep)\n",
    "print(bela_ba.ticket)"
   ]
  },
  {
   "cell_type": "code",
   "execution_count": 77,
   "metadata": {},
   "outputs": [],
   "source": [
    "class Staff:\n",
    "    def __init__(self, machine:TicketMachine):\n",
    "        self.machine = machine\n",
    "\n",
    "    def validateTicket(self, ticket:Ticket):\n",
    "        return ticket in self.machine.tickets"
   ]
  },
  {
   "cell_type": "code",
   "execution_count": 78,
   "metadata": {},
   "outputs": [],
   "source": [
    "jolika = Staff(gep)\n"
   ]
  },
  {
   "cell_type": "code",
   "execution_count": 79,
   "metadata": {},
   "outputs": [
    {
     "data": {
      "text/plain": [
       "True"
      ]
     },
     "execution_count": 79,
     "metadata": {},
     "output_type": "execute_result"
    }
   ],
   "source": [
    "jolika.validateTicket(bela_ba.showTicket())"
   ]
  },
  {
   "cell_type": "code",
   "execution_count": null,
   "metadata": {},
   "outputs": [],
   "source": []
  }
 ],
 "metadata": {
  "kernelspec": {
   "display_name": "python-trial",
   "language": "python",
   "name": "python-trial"
  },
  "language_info": {
   "codemirror_mode": {
    "name": "ipython",
    "version": 3
   },
   "file_extension": ".py",
   "mimetype": "text/x-python",
   "name": "python",
   "nbconvert_exporter": "python",
   "pygments_lexer": "ipython3",
   "version": "3.7.7"
  }
 },
 "nbformat": 4,
 "nbformat_minor": 4
}
