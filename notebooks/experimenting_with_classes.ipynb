{
 "cells": [
  {
   "cell_type": "code",
   "execution_count": 1,
   "metadata": {},
   "outputs": [],
   "source": [
    "class Ticket:\n",
    "    def __init__(self, id:int):\n",
    "        self.id = id\n",
    "\n",
    "    def __str__(self):\n",
    "        return f\"ticket id: {self.id}\""
   ]
  },
  {
   "cell_type": "code",
   "execution_count": 2,
   "metadata": {},
   "outputs": [],
   "source": [
    "class TicketMachine:\n",
    "    def __init__(self):\n",
    "        self.tickets = []\n",
    "        self.index = 0\n",
    "    \n",
    "    def __str__(self):\n",
    "        return f\"tickets: {[ticket.__str__() for ticket in self.tickets]}\"\n",
    "    \n",
    "    def getNewTicket(self):\n",
    "        new_ticket = Ticket(len(self.tickets))\n",
    "        self.tickets.append(new_ticket)\n",
    "        return new_ticket\n",
    "    \n",
    "    def nextTicket(self):\n",
    "        self.index += 1\n",
    "        return self.getCurrentTicket()\n",
    "    \n",
    "    def getCurrentTicket(self):\n",
    "        if self.index < len(self.tickets):   \n",
    "            return self.tickets[self.index]\n",
    "        else:\n",
    "            return None"
   ]
  },
  {
   "cell_type": "code",
   "execution_count": 3,
   "metadata": {},
   "outputs": [],
   "source": [
    "gep = TicketMachine()"
   ]
  },
  {
   "cell_type": "code",
   "execution_count": 4,
   "metadata": {},
   "outputs": [
    {
     "output_type": "stream",
     "name": "stdout",
     "text": "ticket id: 0\nA gepben levo sorszamok: tickets: ['ticket id: 0']\n"
    }
   ],
   "source": [
    "sorszam = gep.getNewTicket()\n",
    "print(sorszam)\n",
    "print(f\"A gepben levo sorszamok: {gep}\")"
   ]
  },
  {
   "cell_type": "code",
   "execution_count": 5,
   "metadata": {},
   "outputs": [
    {
     "output_type": "execute_result",
     "data": {
      "text/plain": "[1, 4, 9]"
     },
     "metadata": {},
     "execution_count": 5
    }
   ],
   "source": [
    "lista = [1, 2,  3]\n",
    "\n",
    "[i*i for i in lista] # Ezt amugy hivjak list comprehension-nek a pythonosok"
   ]
  },
  {
   "cell_type": "code",
   "execution_count": 6,
   "metadata": {},
   "outputs": [],
   "source": [
    "class Customer:\n",
    "    def buyTicket(self, machine:TicketMachine):\n",
    "        self.ticket = machine.getNewTicket()\n",
    "        \n",
    "    def showTicket(self):\n",
    "        return self.ticket\n",
    "    "
   ]
  },
  {
   "cell_type": "code",
   "execution_count": 7,
   "metadata": {},
   "outputs": [
    {
     "output_type": "stream",
     "name": "stdout",
     "text": "ticket id: 1\nticket id: 2\n"
    }
   ],
   "source": [
    "bela_ba = Customer()\n",
    "bela_ba.buyTicket(gep)\n",
    "print(bela_ba.ticket)\n",
    "\n",
    "jozsi_ba = Customer()\n",
    "jozsi_ba.buyTicket(gep)\n",
    "print(jozsi_ba.ticket)"
   ]
  },
  {
   "cell_type": "code",
   "execution_count": 8,
   "metadata": {},
   "outputs": [],
   "source": [
    "class Staff:\n",
    "    def __init__(self, machine:TicketMachine):\n",
    "        self.machine = machine\n",
    "        self.busy = False\n",
    "        self.currentTicket = None\n",
    "\n",
    "    def validateTicket(self, ticket:Ticket):\n",
    "        if ticket == self.currentTicket:\n",
    "            return True\n",
    "        return False\n",
    "    \n",
    "    def shoutoutTicket(self):\n",
    "        if self.currentTicket is None:\n",
    "            self.currentTicket = self.machine.getCurrentTicket()\n",
    "            self.machine.nextTicket()\n",
    "        return self.currentTicket\n",
    "    \n",
    "    def invalidateTicket(self):\n",
    "        self.currentTicket is None\n",
    "        self.busy = False\n",
    "        \n",
    "    def dealwithTicket(self, ticket: Ticket):\n",
    "        self.busy = self.validateTicket(ticket)\n",
    "        return self.busy\n",
    "        "
   ]
  },
  {
   "cell_type": "code",
   "execution_count": 9,
   "metadata": {},
   "outputs": [
    {
     "output_type": "stream",
     "name": "stdout",
     "text": "a is none\na == none\n"
    }
   ],
   "source": [
    "a = None\n",
    "if a is None:\n",
    "    print(\"a is none\")\n",
    "if a == None:\n",
    "    print(\"a == none\")"
   ]
  },
  {
   "cell_type": "code",
   "execution_count": 10,
   "metadata": {},
   "outputs": [],
   "source": [
    "jolika = Staff(gep)\n",
    "gizike = Staff(gep)\n",
    ""
   ]
  },
  {
   "cell_type": "code",
   "execution_count": 11,
   "metadata": {
    "collapsed": true,
    "jupyter": {
     "outputs_hidden": true,
     "source_hidden": true
    }
   },
   "outputs": [
    {
     "output_type": "stream",
     "name": "stdout",
     "text": "ticket id: 0\nFalse\nFalse\nTrue\nticket id: 1\nTrue\nFalse\nFalse\n"
    }
   ],
   "source": [
    "print(jolika.shoutoutTicket())\n",
    "print(jolika.validateTicket(bela_ba.showTicket()))\n",
    "print(jolika.validateTicket(jozsi_ba.showTicket()))\n",
    "print(jolika.validateTicket(sorszam))\n",
    "\n",
    "print(gizike.shoutoutTicket())\n",
    "print(gizike.validateTicket(bela_ba.showTicket()))\n",
    "print(gizike.validateTicket(jozsi_ba.showTicket()))\n",
    "print(gizike.validateTicket(sorszam))"
   ]
  },
  {
   "cell_type": "code",
   "execution_count": 12,
   "metadata": {},
   "outputs": [],
   "source": [
    "jolika.invalidateTicket()"
   ]
  },
  {
   "cell_type": "code",
   "execution_count": 13,
   "metadata": {},
   "outputs": [
    {
     "output_type": "stream",
     "name": "stdout",
     "text": "tickets: []\nRobi bá sorszáma:ticket id: 0\nErzsi sorszáma:ticket id: 1\nIbolya is waiting for: ticket id: 0\nPeter is waiting for: ticket id: 1\nErzsi jön Ibolyához: False\nRobi bá jön Peterhez: False\nRobi bá jön Ibolyához: True\nErzsi jön Peterhez: True\n"
    }
   ],
   "source": [
    "#Test01:\n",
    "#shop opens and machine starts. \n",
    "sorszamgep = TicketMachine()\n",
    "print(sorszamgep)\n",
    "#staff members are ready at the cashier\n",
    "ibolya = Staff(sorszamgep)\n",
    "peter = Staff(sorszamgep)\n",
    "\n",
    "#customers arrived\n",
    "robi_ba = Customer()\n",
    "erzsi = Customer()\n",
    "\n",
    "#customers request numbers\n",
    "robi_ba.buyTicket(sorszamgep)\n",
    "print(f\"Robi bá sorszáma:{robi_ba.showTicket()}\")\n",
    "erzsi.buyTicket(sorszamgep)\n",
    "print(f\"Erzsi sorszáma:{erzsi.showTicket()}\")\n",
    "\n",
    "#staff members ask for new customers\n",
    "print(f\"Ibolya is waiting for: {ibolya.shoutoutTicket()}\")\n",
    "print(f\"Peter is waiting for: {peter.shoutoutTicket()}\")\n",
    "\n",
    "#staff members deal with customers\n",
    "print(f\"Erzsi jön Ibolyához: {ibolya.dealwithTicket(erzsi.showTicket())}\")\n",
    "print(f\"Robi bá jön Peterhez: {peter.dealwithTicket(robi_ba.showTicket())}\")\n",
    "print(f\"Robi bá jön Ibolyához: {ibolya.dealwithTicket(robi_ba.showTicket())}\")\n",
    "print(f\"Erzsi jön Peterhez: {peter.dealwithTicket(erzsi.showTicket())}\")\n",
    ""
   ]
  },
  {
   "cell_type": "code",
   "execution_count": null,
   "metadata": {},
   "outputs": [],
   "source": []
  }
 ],
 "metadata": {
  "kernelspec": {
   "display_name": "python-trial",
   "language": "python",
   "name": "python-trial"
  },
  "language_info": {
   "codemirror_mode": {
    "name": "ipython",
    "version": 3
   },
   "file_extension": ".py",
   "mimetype": "text/x-python",
   "name": "python",
   "nbconvert_exporter": "python",
   "pygments_lexer": "ipython3",
   "version": "3.7.7-final"
  }
 },
 "nbformat": 4,
 "nbformat_minor": 4
}