{
 "cells": [
  {
   "cell_type": "code",
   "execution_count": 1,
   "metadata": {},
   "outputs": [],
   "source": [
    "class Ticket:\n",
    "    def __init__(self, id:int):\n",
    "        self.id = id\n",
    "\n",
    "    def __str__(self):\n",
    "        return f\"ticket id: {self.id}\""
   ]
  },
  {
   "cell_type": "code",
   "execution_count": 2,
   "metadata": {},
   "outputs": [],
   "source": [
    "class TicketMachine:\n",
    "    tickets = list()\n",
    "    index = 0\n",
    "    \n",
    "    def __str__(self):\n",
    "        return f\"tickets: {[ticket.__str__() for ticket in self.tickets]}\"\n",
    "    \n",
    "    def getNewTicket(self):\n",
    "        new_ticket = Ticket(len(self.tickets))\n",
    "        self.tickets.append(new_ticket)\n",
    "        return new_ticket\n",
    "    \n",
    "    def nextTicket(self):\n",
    "        self.index += 1\n",
    "        return self.getCurrentTicket()\n",
    "    \n",
    "    def getCurrentTicket(self):\n",
    "        if self.index < len(self.tickets):   \n",
    "            return self.tickets[self.index]\n",
    "        else:\n",
    "            return None"
   ]
  },
  {
   "cell_type": "code",
   "execution_count": 3,
   "metadata": {},
   "outputs": [],
   "source": [
    "gep = TicketMachine()"
   ]
  },
  {
   "cell_type": "code",
   "execution_count": 4,
   "metadata": {},
   "outputs": [
    {
     "name": "stdout",
     "output_type": "stream",
     "text": [
      "ticket id: 0\n",
      "A gepben levo sorszamok: tickets: ['ticket id: 0']\n"
     ]
    }
   ],
   "source": [
    "sorszam = gep.getNewTicket()\n",
    "print(sorszam)\n",
    "print(f\"A gepben levo sorszamok: {gep}\")"
   ]
  },
  {
   "cell_type": "code",
   "execution_count": 47,
   "metadata": {},
   "outputs": [
    {
     "data": {
      "text/plain": [
       "[1, 4, 9]"
      ]
     },
     "execution_count": 47,
     "metadata": {},
     "output_type": "execute_result"
    }
   ],
   "source": [
    "lista = [1, 2,  3]\n",
    "\n",
    "[i*i for i in lista] # Ezt amugy hivjak list comprehension-nek a pythonosok"
   ]
  },
  {
   "cell_type": "code",
   "execution_count": 5,
   "metadata": {},
   "outputs": [],
   "source": [
    "class Customer:\n",
    "    def buyTicket(self, machine:TicketMachine):\n",
    "        self.ticket = machine.getNewTicket()\n",
    "        \n",
    "    def showTicket(self):\n",
    "        return self.ticket\n",
    "    "
   ]
  },
  {
   "cell_type": "code",
   "execution_count": 49,
   "metadata": {},
   "outputs": [
    {
     "name": "stdout",
     "output_type": "stream",
     "text": [
      "ticket id: 1\n",
      "ticket id: 2\n"
     ]
    }
   ],
   "source": [
    "bela_ba = Customer()\n",
    "bela_ba.buyTicket(gep)\n",
    "print(bela_ba.ticket)\n",
    "\n",
    "jozsi_ba = Customer()\n",
    "jozsi_ba.buyTicket(gep)\n",
    "print(jozsi_ba.ticket)"
   ]
  },
  {
   "cell_type": "code",
   "execution_count": 6,
   "metadata": {},
   "outputs": [],
   "source": [
    "class Staff:\n",
    "    def __init__(self, machine:TicketMachine):\n",
    "        self.machine = machine\n",
    "        self.busy = False\n",
    "        self.currentTicket = None\n",
    "\n",
    "    def validateTicket(self, ticket:Ticket):\n",
    "        if ticket == self.currentTicket:\n",
    "            return True\n",
    "        return False\n",
    "    \n",
    "    def shoutoutTicket(self):\n",
    "        if self.currentTicket == None:\n",
    "            self.currentTicket = self.machine.getCurrentTicket()\n",
    "            self.machine.nextTicket()\n",
    "        return self.currentTicket\n",
    "    \n",
    "    def invalidateTicket(self):\n",
    "        self.currentTicket is None\n",
    "        self.busy = False\n",
    "        \n",
    "    def dealwithTicket(self, ticket: Ticket):\n",
    "        self.busy = self.validateTicket(ticket)\n",
    "        return self.busy\n",
    "        "
   ]
  },
  {
   "cell_type": "code",
   "execution_count": 71,
   "metadata": {},
   "outputs": [
    {
     "name": "stdout",
     "output_type": "stream",
     "text": [
      "a is none\n",
      "a == none\n"
     ]
    }
   ],
   "source": [
    "a = None\n",
    "if a is None:\n",
    "    print(\"a is none\")\n",
    "if a == None:\n",
    "    print(\"a == none\")"
   ]
  },
  {
   "cell_type": "code",
   "execution_count": 61,
   "metadata": {},
   "outputs": [],
   "source": [
    "jolika = Staff(gep)\n",
    "gizike = Staff(gep)\n"
   ]
  },
  {
   "cell_type": "code",
   "execution_count": 62,
   "metadata": {
    "collapsed": true,
    "jupyter": {
     "outputs_hidden": true,
     "source_hidden": true
    }
   },
   "outputs": [
    {
     "ename": "TypeError",
     "evalue": "'NoneType' object is not callable",
     "output_type": "error",
     "traceback": [
      "\u001b[1;31m---------------------------------------------------------------------------\u001b[0m",
      "\u001b[1;31mTypeError\u001b[0m                                 Traceback (most recent call last)",
      "\u001b[1;32m<ipython-input-62-bb6632af3926>\u001b[0m in \u001b[0;36m<module>\u001b[1;34m\u001b[0m\n\u001b[1;32m----> 1\u001b[1;33m \u001b[0mprint\u001b[0m\u001b[1;33m(\u001b[0m\u001b[0mjolika\u001b[0m\u001b[1;33m.\u001b[0m\u001b[0mshoutoutTicket\u001b[0m\u001b[1;33m(\u001b[0m\u001b[1;33m)\u001b[0m\u001b[1;33m)\u001b[0m\u001b[1;33m\u001b[0m\u001b[1;33m\u001b[0m\u001b[0m\n\u001b[0m\u001b[0;32m      2\u001b[0m \u001b[0mprint\u001b[0m\u001b[1;33m(\u001b[0m\u001b[0mjolika\u001b[0m\u001b[1;33m.\u001b[0m\u001b[0mvalidateTicket\u001b[0m\u001b[1;33m(\u001b[0m\u001b[0mbela_ba\u001b[0m\u001b[1;33m.\u001b[0m\u001b[0mshowTicket\u001b[0m\u001b[1;33m(\u001b[0m\u001b[1;33m)\u001b[0m\u001b[1;33m)\u001b[0m\u001b[1;33m)\u001b[0m\u001b[1;33m\u001b[0m\u001b[1;33m\u001b[0m\u001b[0m\n\u001b[0;32m      3\u001b[0m \u001b[0mprint\u001b[0m\u001b[1;33m(\u001b[0m\u001b[0mjolika\u001b[0m\u001b[1;33m.\u001b[0m\u001b[0mvalidateTicket\u001b[0m\u001b[1;33m(\u001b[0m\u001b[0mjozsi_ba\u001b[0m\u001b[1;33m.\u001b[0m\u001b[0mshowTicket\u001b[0m\u001b[1;33m(\u001b[0m\u001b[1;33m)\u001b[0m\u001b[1;33m)\u001b[0m\u001b[1;33m)\u001b[0m\u001b[1;33m\u001b[0m\u001b[1;33m\u001b[0m\u001b[0m\n\u001b[0;32m      4\u001b[0m \u001b[0mprint\u001b[0m\u001b[1;33m(\u001b[0m\u001b[0mjolika\u001b[0m\u001b[1;33m.\u001b[0m\u001b[0mvalidateTicket\u001b[0m\u001b[1;33m(\u001b[0m\u001b[0msorszam\u001b[0m\u001b[1;33m)\u001b[0m\u001b[1;33m)\u001b[0m\u001b[1;33m\u001b[0m\u001b[1;33m\u001b[0m\u001b[0m\n\u001b[0;32m      5\u001b[0m \u001b[1;33m\u001b[0m\u001b[0m\n",
      "\u001b[1;32m<ipython-input-60-849f866dccf8>\u001b[0m in \u001b[0;36mshoutoutTicket\u001b[1;34m(self)\u001b[0m\n\u001b[0;32m     14\u001b[0m         \u001b[1;32mif\u001b[0m \u001b[0mself\u001b[0m\u001b[1;33m.\u001b[0m\u001b[0mcurrentTicket\u001b[0m \u001b[1;32mis\u001b[0m \u001b[1;32mNone\u001b[0m\u001b[1;33m:\u001b[0m\u001b[1;33m\u001b[0m\u001b[1;33m\u001b[0m\u001b[0m\n\u001b[0;32m     15\u001b[0m             \u001b[0mself\u001b[0m\u001b[1;33m.\u001b[0m\u001b[0mcurrentTicket\u001b[0m \u001b[1;33m=\u001b[0m \u001b[0mself\u001b[0m\u001b[1;33m.\u001b[0m\u001b[0mmachine\u001b[0m\u001b[1;33m.\u001b[0m\u001b[0mnextTicket\u001b[0m\u001b[1;33m(\u001b[0m\u001b[1;33m)\u001b[0m\u001b[1;33m\u001b[0m\u001b[1;33m\u001b[0m\u001b[0m\n\u001b[1;32m---> 16\u001b[1;33m         \u001b[1;32mreturn\u001b[0m \u001b[0mself\u001b[0m\u001b[1;33m.\u001b[0m\u001b[0mcurrentTicket\u001b[0m\u001b[1;33m(\u001b[0m\u001b[1;33m)\u001b[0m\u001b[1;33m\u001b[0m\u001b[1;33m\u001b[0m\u001b[0m\n\u001b[0m\u001b[0;32m     17\u001b[0m \u001b[1;33m\u001b[0m\u001b[0m\n\u001b[0;32m     18\u001b[0m     \u001b[1;32mdef\u001b[0m \u001b[0minvalidateTicket\u001b[0m\u001b[1;33m(\u001b[0m\u001b[0mself\u001b[0m\u001b[1;33m)\u001b[0m\u001b[1;33m:\u001b[0m\u001b[1;33m\u001b[0m\u001b[1;33m\u001b[0m\u001b[0m\n",
      "\u001b[1;31mTypeError\u001b[0m: 'NoneType' object is not callable"
     ]
    }
   ],
   "source": [
    "print(jolika.shoutoutTicket())\n",
    "print(jolika.validateTicket(bela_ba.showTicket()))\n",
    "print(jolika.validateTicket(jozsi_ba.showTicket()))\n",
    "print(jolika.validateTicket(sorszam))\n",
    "\n",
    "print(gizike.shoutoutTicket())\n",
    "print(gizike.validateTicket(bela_ba.showTicket()))\n",
    "print(gizike.validateTicket(jozsi_ba.showTicket()))\n",
    "print(gizike.validateTicket(sorszam))"
   ]
  },
  {
   "cell_type": "code",
   "execution_count": 53,
   "metadata": {},
   "outputs": [],
   "source": [
    "jolika.invalidateTicket()"
   ]
  },
  {
   "cell_type": "code",
   "execution_count": 7,
   "metadata": {},
   "outputs": [
    {
     "name": "stdout",
     "output_type": "stream",
     "text": [
      "Robi bá sorszáma:ticket id: 1\n",
      "Erzsi sorszáma:ticket id: 2\n",
      "Ibolya is waiting for: ticket id: 0\n",
      "Peter is waiting for: ticket id: 1\n",
      "Erzsi jön Ibolyához: False\n",
      "Robi bá jön Peterhez: True\n",
      "Robi bá jön Ibolyához: False\n",
      "Erzsi jön Peterhez: False\n"
     ]
    }
   ],
   "source": [
    "#Test01:\n",
    "#shop opens and machine starts. \n",
    "sorszamgep = TicketMachine()\n",
    "\n",
    "#staff members are ready at the cashier\n",
    "ibolya = Staff(sorszamgep)\n",
    "peter = Staff(sorszamgep)\n",
    "\n",
    "#customers arrived\n",
    "robi_ba = Customer()\n",
    "erzsi = Customer()\n",
    "\n",
    "#customers request numbers\n",
    "robi_ba.buyTicket(sorszamgep)\n",
    "print(f\"Robi bá sorszáma:{robi_ba.showTicket()}\")\n",
    "erzsi.buyTicket(sorszamgep)\n",
    "print(f\"Erzsi sorszáma:{erzsi.showTicket()}\")\n",
    "\n",
    "#staff members ask for new customers\n",
    "print(f\"Ibolya is waiting for: {ibolya.shoutoutTicket()}\")\n",
    "print(f\"Peter is waiting for: {peter.shoutoutTicket()}\")\n",
    "\n",
    "#staff members deal with customers\n",
    "print(f\"Erzsi jön Ibolyához: {ibolya.dealwithTicket(erzsi.showTicket())}\")\n",
    "print(f\"Robi bá jön Peterhez: {peter.dealwithTicket(robi_ba.showTicket())}\")\n",
    "print(f\"Robi bá jön Ibolyához: {ibolya.dealwithTicket(robi_ba.showTicket())}\")\n",
    "print(f\"Erzsi jön Peterhez: {peter.dealwithTicket(erzsi.showTicket())}\")\n"
   ]
  },
  {
   "cell_type": "code",
   "execution_count": null,
   "metadata": {},
   "outputs": [],
   "source": []
  }
 ],
 "metadata": {
  "kernelspec": {
   "display_name": "python-trial",
   "language": "python",
   "name": "python-trial"
  },
  "language_info": {
   "codemirror_mode": {
    "name": "ipython",
    "version": 3
   },
   "file_extension": ".py",
   "mimetype": "text/x-python",
   "name": "python",
   "nbconvert_exporter": "python",
   "pygments_lexer": "ipython3",
   "version": "3.8.2"
  }
 },
 "nbformat": 4,
 "nbformat_minor": 4
}
