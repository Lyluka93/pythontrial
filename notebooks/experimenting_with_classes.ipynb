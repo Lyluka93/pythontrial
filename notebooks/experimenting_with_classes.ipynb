{
 "cells": [
  {
   "cell_type": "code",
   "execution_count": 19,
   "metadata": {},
   "outputs": [],
   "source": [
    "class Ticket:\n",
    "    def __init__(self, id:int):\n",
    "        self.id = id\n",
    "\n",
    "    def __str__(self):\n",
    "        return f\"ticket id: {self.id}\""
   ]
  },
  {
   "cell_type": "code",
   "execution_count": 20,
   "metadata": {},
   "outputs": [],
   "source": [
    "class TicketMachine:\n",
    "    def __init__(self):\n",
    "        self.tickets = []\n",
    "        self.index = 0\n",
    "    \n",
    "    def __str__(self):\n",
    "        return f\"tickets: {[ticket.__str__() for ticket in self.tickets]}\"\n",
    "    \n",
    "    def getNewTicket(self):\n",
    "        new_ticket = Ticket(len(self.tickets))\n",
    "        self.tickets.append(new_ticket)\n",
    "        return new_ticket\n",
    "    \n",
    "    def nextTicket(self):\n",
    "        self.index += 1\n",
    "        return self.getCurrentTicket()\n",
    "    \n",
    "    def getCurrentTicket(self):\n",
    "        if self.index < len(self.tickets):   \n",
    "            return self.tickets[self.index]\n",
    "        else:\n",
    "            return None"
   ]
  },
  {
   "cell_type": "code",
   "execution_count": 21,
   "metadata": {},
   "outputs": [],
   "source": [
    "gep = TicketMachine()"
   ]
  },
  {
   "cell_type": "code",
   "execution_count": 22,
   "metadata": {},
   "outputs": [
    {
     "output_type": "stream",
     "name": "stdout",
     "text": "ticket id: 0\nA gepben levo sorszamok: tickets: ['ticket id: 0']\n"
    }
   ],
   "source": [
    "sorszam = gep.getNewTicket()\n",
    "print(sorszam)\n",
    "print(f\"A gepben levo sorszamok: {gep}\")"
   ]
  },
  {
   "cell_type": "code",
   "execution_count": 23,
   "metadata": {},
   "outputs": [
    {
     "output_type": "execute_result",
     "data": {
      "text/plain": "[1, 4, 9]"
     },
     "metadata": {},
     "execution_count": 23
    }
   ],
   "source": [
    "lista = [1, 2,  3]\n",
    "\n",
    "[i*i for i in lista] # Ezt amugy hivjak list comprehension-nek a pythonosok"
   ]
  },
  {
   "cell_type": "code",
   "execution_count": 24,
   "metadata": {},
   "outputs": [],
   "source": [
    "class Customer:\n",
    "    def buyTicket(self, machine:TicketMachine):\n",
    "        self.ticket = machine.getNewTicket()\n",
    "        \n",
    "    def showTicket(self):\n",
    "        return self.ticket\n",
    "    "
   ]
  },
  {
   "cell_type": "code",
   "execution_count": 25,
   "metadata": {},
   "outputs": [
    {
     "output_type": "stream",
     "name": "stdout",
     "text": "ticket id: 1\nticket id: 2\n"
    }
   ],
   "source": [
    "bela_ba = Customer()\n",
    "bela_ba.buyTicket(gep)\n",
    "print(bela_ba.ticket)\n",
    "\n",
    "jozsi_ba = Customer()\n",
    "jozsi_ba.buyTicket(gep)\n",
    "print(jozsi_ba.ticket)"
   ]
  },
  {
   "cell_type": "code",
   "execution_count": 26,
   "metadata": {},
   "outputs": [],
   "source": [
    "class Staff:\n",
    "    def __init__(self, machine:TicketMachine):\n",
    "        self.machine = machine\n",
    "        self.busy = False\n",
    "        self.currentTicket = None\n",
    "\n",
    "    def validateTicket(self, ticket:Ticket):\n",
    "        if ticket == self.currentTicket:\n",
    "            return True\n",
    "        return False\n",
    "    \n",
    "    def shoutoutTicket(self):\n",
    "        if self.currentTicket is None:\n",
    "            self.currentTicket = self.machine.getCurrentTicket()\n",
    "            self.machine.nextTicket()\n",
    "        return self.currentTicket\n",
    "    \n",
    "    def invalidateTicket(self):\n",
    "        self.currentTicket = None\n",
    "        self.busy = False\n",
    "        \n",
    "    def dealwithTicket(self, ticket: Ticket):\n",
    "        self.busy = self.validateTicket(ticket)\n",
    "        return self.busy\n",
    "        "
   ]
  },
  {
   "cell_type": "code",
   "execution_count": 27,
   "metadata": {},
   "outputs": [
    {
     "output_type": "stream",
     "name": "stdout",
     "text": "a is none\na == none\n"
    }
   ],
   "source": [
    "a = None\n",
    "if a is None:\n",
    "    print(\"a is none\")\n",
    "if a == None:\n",
    "    print(\"a == none\")"
   ]
  },
  {
   "cell_type": "code",
   "execution_count": 28,
   "metadata": {},
   "outputs": [],
   "source": [
    "jolika = Staff(gep)\n",
    "gizike = Staff(gep)\n",
    ""
   ]
  },
  {
   "cell_type": "code",
   "execution_count": 29,
   "metadata": {
    "collapsed": true,
    "jupyter": {
     "outputs_hidden": true,
     "source_hidden": true
    }
   },
   "outputs": [
    {
     "output_type": "stream",
     "name": "stdout",
     "text": "ticket id: 0\nFalse\nFalse\nTrue\nticket id: 1\nTrue\nFalse\nFalse\n"
    }
   ],
   "source": [
    "print(jolika.shoutoutTicket())\n",
    "print(jolika.validateTicket(bela_ba.showTicket()))\n",
    "print(jolika.validateTicket(jozsi_ba.showTicket()))\n",
    "print(jolika.validateTicket(sorszam))\n",
    "\n",
    "print(gizike.shoutoutTicket())\n",
    "print(gizike.validateTicket(bela_ba.showTicket()))\n",
    "print(gizike.validateTicket(jozsi_ba.showTicket()))\n",
    "print(gizike.validateTicket(sorszam))"
   ]
  },
  {
   "cell_type": "code",
   "execution_count": 30,
   "metadata": {},
   "outputs": [],
   "source": [
    "jolika.invalidateTicket()"
   ]
  },
  {
   "cell_type": "code",
   "execution_count": 31,
   "metadata": {},
   "outputs": [
    {
     "output_type": "stream",
     "name": "stdout",
     "text": "tickets: []\nRobi bá sorszáma:ticket id: 0\nErzsi sorszáma:ticket id: 1\nIbolya is waiting for: ticket id: 0\nPeter is waiting for: ticket id: 1\nErzsi jön Ibolyához: False\nRobi bá jön Peterhez: False\nRobi bá jön Ibolyához: True\nErzsi jön Peterhez: True\n"
    }
   ],
   "source": [
    "def workflow_01_test():\n",
    "    \"\"\"\n",
    "    Test01:\n",
    "     Given:\n",
    "       Kinyit a patika, bekapcsolják a sorszámgépet.\n",
    "       Ibolya és Péter, két alkalmazott beállnak a pult mögé, és készek fogadni az ügyfeleket\n",
    "       Robi bá és Erzsi, két ügyfél bejönnek a boltba\n",
    "\n",
    "       Robi bá és Erzsi rendre húznak egy-egy sorszámot\n",
    "\n",
    "     When:\n",
    "       Ibolya és Péter, mivel épp szabadok, kérik a következőt\n",
    "     Then:\n",
    "        A két kiadott sorszámból egyiket Ibolya, a másikat Péter szólítja\n",
    "\n",
    "     When:\n",
    "       A két ügyfél összekeveri a pultot, ahová menniük kéne\n",
    "      Then:\n",
    "       A pultnál az alkalmazottak udvariasan elküldik az ügyfelet, mivel nem őt szólították\n",
    "\n",
    "     When:\n",
    "       A két ügyfél rendre oda megy a pulthoz, amelyikből szólították a sorszámukkal őket\n",
    "     Then:\n",
    "        Az alkalmazottak elfogadják a sorszámot, amelyet az ügyfelek bemutattak\n",
    "        Az alkalmazottak elfoglaltak az ügyfelek kiszolgálásával\n",
    "\n",
    "    \"\"\"\n",
    "\n",
    "    #shop opens and machine starts. \n",
    "    sorszamgep = TicketMachine()\n",
    "    print(sorszamgep)\n",
    "    #staff members are ready at the cashier\n",
    "    ibolya = Staff(sorszamgep)\n",
    "    peter = Staff(sorszamgep)\n",
    "\n",
    "    #customers arrived\n",
    "    robi_ba = Customer()\n",
    "    erzsi = Customer()\n",
    "\n",
    "    #customers request numbers\n",
    "    robi_ba.buyTicket(sorszamgep)\n",
    "    print(f\"Robi bá sorszáma:{robi_ba.showTicket()}\")\n",
    "    erzsi.buyTicket(sorszamgep)\n",
    "    print(f\"Erzsi sorszáma:{erzsi.showTicket()}\")\n",
    "    assert erzsi.showTicket() is not robi_ba.showTicket()\n",
    "\n",
    "    #staff members ask for new customers\n",
    "    print(f\"Ibolya is waiting for: {ibolya.shoutoutTicket()}\")\n",
    "    print(f\"Peter is waiting for: {peter.shoutoutTicket()}\")\n",
    "    assert ibolya.shoutoutTicket() is not peter.shoutoutTicket()\n",
    "\n",
    "    #staff members deal with customers\n",
    "    print(f\"Erzsi jön Ibolyához: {ibolya.dealwithTicket(erzsi.showTicket())}\")\n",
    "    assert ibolya.dealwithTicket(erzsi.showTicket()) is False\n",
    "\n",
    "    print(f\"Robi bá jön Peterhez: {peter.dealwithTicket(robi_ba.showTicket())}\")\n",
    "    assert peter.dealwithTicket(robi_ba.showTicket()) is False\n",
    "\n",
    "    print(f\"Robi bá jön Ibolyához: {ibolya.dealwithTicket(robi_ba.showTicket())}\")\n",
    "    assert ibolya.dealwithTicket(robi_ba.showTicket()) is True\n",
    "    assert ibolya.busy is True\n",
    "    \n",
    "    print(f\"Erzsi jön Peterhez: {peter.dealwithTicket(erzsi.showTicket())}\")\n",
    "    assert peter.dealwithTicket(erzsi.showTicket()) is True\n",
    "    assert peter.busy is True\n",
    "\n",
    "workflow_01_test()"
   ]
  },
  {
   "cell_type": "code",
   "execution_count": 32,
   "metadata": {},
   "outputs": [
    {
     "output_type": "stream",
     "name": "stdout",
     "text": "tickets: []\n"
    }
   ],
   "source": [
    "def workflow_02_test():\n",
    "    \"\"\"\n",
    "     Given:\n",
    "        A sorszámgép már be van kapcsolva\n",
    "        A két alkalmazott a pultnál, Ibolya és Péter épp elfoglaltak\n",
    "\n",
    "     When:\n",
    "        Jocika bejön a boltba és húz egy sorszámot, majd vár\n",
    "        Egy rövid idő után megunja a várakozást és odamegy az egyik pulthoz\n",
    "     Then:\n",
    "        Az alkalmazott udvariasan a törelmét kéri, mivel még dolga van (talán előző ügyfél, mindegy is)\n",
    "\n",
    "    \"\"\"\n",
    "\n",
    "    # Given:\n",
    "    sorszamgep = TicketMachine()\n",
    "    print(sorszamgep)\n",
    "    \n",
    "    ibolya = Staff(sorszamgep)\n",
    "    peter = Staff(sorszamgep)\n",
    "\n",
    "    ibolya.busy = True\n",
    "    peter.busy = True\n",
    "\n",
    "    # When:\n",
    "    jocika = Customer()\n",
    "    jocika.buyTicket(sorszamgep)\n",
    "    # Then:\n",
    "    assert ibolya.dealwithTicket(jocika.showTicket()) is False\n",
    "\n",
    "\n",
    "workflow_02_test()"
   ]
  },
  {
   "cell_type": "code",
   "execution_count": 33,
   "metadata": {},
   "outputs": [
    {
     "output_type": "stream",
     "name": "stdout",
     "text": "Jozsi sorszama: ticket id: 0\nIbolya kéri a következőt: ticket id: 0\n"
    },
    {
     "output_type": "execute_result",
     "data": {
      "text/plain": "True"
     },
     "metadata": {},
     "execution_count": 33
    }
   ],
   "source": [
    "def workflow_03_test():\n",
    "    \"\"\"\n",
    "     Given:\n",
    "        A sorszámgép már be van kapcsolva\n",
    "        Egyetlen alkalmazott van a pultnál, Ibolya\n",
    "        Józsi, egy alkalmazott bejön a boltba, húz egy sorszámot és vár arra, hogy szólítsák\n",
    "        Józsi jelenleg a soron következő ügyfél\n",
    "     When:\n",
    "        Ibolya felszabadul, kéri a következőt\n",
    "     Then:\n",
    "        Józsi sorszámát írja ki a gép és Ibolya Józsi sorszámát szólítja\n",
    "        Józsi felmutatja a sorszámát Ibolyának, \n",
    "            amit ő elfogad \n",
    "            és elkezdi kiszolgálni\n",
    "\n",
    "    \"\"\"\n",
    "\n",
    "    # Given:\n",
    "    sorszamgep = TicketMachine()\n",
    "    \n",
    "    ibolya = Staff(sorszamgep)\n",
    "    ibolya.busy = True\n",
    "\n",
    "    jozsi = Customer()\n",
    "    jozsi.buyTicket(sorszamgep)\n",
    "    print(f\"Jozsi sorszama: {jozsi.showTicket()}\")\n",
    "    # When:\n",
    "    ibolya.busy = False\n",
    "\n",
    "    # Then:\n",
    "    assert ibolya.shoutoutTicket() is jozsi.showTicket()\n",
    "    print(f\"Ibolya kéri a következőt: {ibolya.shoutoutTicket()}\")\n",
    "    assert ibolya.dealwithTicket(jozsi.showTicket()) is True\n",
    "    assert ibolya.busy is True\n",
    "\n",
    "    return True\n",
    "\n",
    "\n",
    "workflow_03_test()"
   ]
  },
  {
   "cell_type": "code",
   "execution_count": 34,
   "metadata": {},
   "outputs": [
    {
     "output_type": "stream",
     "name": "stdout",
     "text": "Jozsi sorszama: ticket id: 1\nIbolya épp foglalt? True\nA következő sorszám: ticket id: 1\nIbolya már kiszolgálta Beátát\nIbolya épp foglalt? False\nIbolya kéri a következőt: ticket id: 1\n"
    },
    {
     "output_type": "execute_result",
     "data": {
      "text/plain": "True"
     },
     "metadata": {},
     "execution_count": 34
    }
   ],
   "source": [
    "def workflow_04_test():\n",
    "    \"\"\"\n",
    "     Given:\n",
    "        A sorszámgép már be van kapcsolva\n",
    "        Egyetlen alkalmazott van a pultnál, Ibolya\n",
    "        Ibolya épp elfoglalt egy korábbi ügyféllel, Beátával\n",
    "        Józsi, egy alkalmazott bejön a boltba, húz egy sorszámot és vár arra, hogy szólítsák\n",
    "        Józsi jelenleg a soron következő ügyfél\n",
    "     When:\n",
    "        Ibolya felszabadul, kéri a következőt\n",
    "     Then:\n",
    "        Józsi sorszámát írja ki a gép és Ibolya Józsi sorszámát szólítja\n",
    "        Józsi felmutatja a sorszámát Ibolyának, \n",
    "            amit ő elfogad \n",
    "            és elkezdi kiszolgálni\n",
    "\n",
    "    \"\"\"\n",
    "\n",
    "    # Given:\n",
    "    sorszamgep = TicketMachine()\n",
    "    \n",
    "    ibolya = Staff(sorszamgep)\n",
    "    beata = Customer()\n",
    "    beata.buyTicket(sorszamgep)\n",
    "\n",
    "    jozsi = Customer()\n",
    "    jozsi.buyTicket(sorszamgep)\n",
    "    print(f\"Jozsi sorszama: {jozsi.showTicket()}\")\n",
    "    \n",
    "    ibolya.shoutoutTicket()\n",
    "    ibolya.dealwithTicket(beata.showTicket())\n",
    "\n",
    "    print(f\"Ibolya épp foglalt? {ibolya.busy}\")\n",
    "\n",
    "    # When:\n",
    "    print(f\"A következő sorszám: {sorszamgep.getCurrentTicket()}\")\n",
    "    assert sorszamgep.getCurrentTicket() is jozsi.showTicket()\n",
    "    print(\"Ibolya már kiszolgálta Beátát\")\n",
    "    ibolya.invalidateTicket()\n",
    "    print(f\"Ibolya épp foglalt? {ibolya.busy}\")\n",
    "\n",
    "    # Then:\n",
    "    print(f\"Ibolya kéri a következőt: {ibolya.shoutoutTicket()}\")\n",
    "    assert ibolya.shoutoutTicket() is jozsi.showTicket()\n",
    "    assert ibolya.dealwithTicket(jozsi.showTicket()) is True\n",
    "    assert ibolya.busy is True\n",
    "\n",
    "    return True\n",
    "\n",
    "\n",
    "workflow_04_test()"
   ]
  },
  {
   "cell_type": "code",
   "execution_count": 35,
   "metadata": {},
   "outputs": [
    {
     "output_type": "stream",
     "name": "stdout",
     "text": "Ibolya épp foglalt? True\nJozsi sorszama: ticket id: 1\nIbolya már kiszolgálta Beátát\nIbolya épp foglalt? False\nA következő sorszám: ticket id: 1\nIbolya kéri a következőt: ticket id: 1\n"
    },
    {
     "output_type": "execute_result",
     "data": {
      "text/plain": "True"
     },
     "metadata": {},
     "execution_count": 35
    }
   ],
   "source": [
    "def workflow_05_test():\n",
    "    \"\"\"\n",
    "     Given:\n",
    "        A sorszámgép már be van kapcsolva\n",
    "        Egyetlen alkalmazott van a pultnál, Ibolya\n",
    "        Ibolya épp elfoglalt egy korábbi ügyféllel, Beátával\n",
    "        Józsi, egy alkalmazott bejön a boltba, húz egy sorszámot és vár arra, hogy szólítsák\n",
    "        Józsi jelenleg a soron következő ügyfél\n",
    "     When:\n",
    "        Ibolya felszabadul, kéri a következőt\n",
    "     Then:\n",
    "        Józsi sorszámát írja ki a gép és Ibolya Józsi sorszámát szólítja\n",
    "        Józsi felmutatja a sorszámát Ibolyának, \n",
    "            amit ő elfogad \n",
    "            és elkezdi kiszolgálni\n",
    "\n",
    "    \"\"\"\n",
    "\n",
    "    # Given:\n",
    "    sorszamgep = TicketMachine()\n",
    "    \n",
    "    ibolya = Staff(sorszamgep)\n",
    "    beata = Customer()\n",
    "    beata.buyTicket(sorszamgep)\n",
    "    ibolya.shoutoutTicket()\n",
    "    ibolya.dealwithTicket(beata.showTicket())\n",
    "\n",
    "    print(f\"Ibolya épp foglalt? {ibolya.busy}\")\n",
    "\n",
    "    jozsi = Customer()\n",
    "    jozsi.buyTicket(sorszamgep)\n",
    "    print(f\"Jozsi sorszama: {jozsi.showTicket()}\")\n",
    "    \n",
    "    # When:\n",
    "    print(\"Ibolya már kiszolgálta Beátát\")\n",
    "    ibolya.invalidateTicket()\n",
    "    print(f\"Ibolya épp foglalt? {ibolya.busy}\")\n",
    "\n",
    "    # Then:\n",
    "    print(f\"A következő sorszám: {sorszamgep.getCurrentTicket()}\")\n",
    "    assert sorszamgep.getCurrentTicket() is jozsi.showTicket()\n",
    "    print(f\"Ibolya kéri a következőt: {ibolya.shoutoutTicket()}\")\n",
    "    assert ibolya.shoutoutTicket() is jozsi.showTicket()\n",
    "    assert ibolya.dealwithTicket(jozsi.showTicket()) is True\n",
    "    assert ibolya.busy is True\n",
    "\n",
    "    return True\n",
    "\n",
    "\n",
    "workflow_05_test()"
   ]
  },
  {
   "cell_type": "code",
   "execution_count": null,
   "metadata": {},
   "outputs": [],
   "source": []
  }
 ],
 "metadata": {
  "kernelspec": {
   "display_name": "python-trial",
   "language": "python",
   "name": "python-trial"
  },
  "language_info": {
   "codemirror_mode": {
    "name": "ipython",
    "version": 3
   },
   "file_extension": ".py",
   "mimetype": "text/x-python",
   "name": "python",
   "nbconvert_exporter": "python",
   "pygments_lexer": "ipython3",
   "version": "3.7.7-final"
  }
 },
 "nbformat": 4,
 "nbformat_minor": 4
}